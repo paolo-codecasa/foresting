{
 "cells": [
  {
   "cell_type": "code",
   "execution_count": 29,
   "id": "a0cc2d5e",
   "metadata": {},
   "outputs": [
    {
     "name": "stdout",
     "output_type": "stream",
     "text": [
      "The autoreload extension is already loaded. To reload it, use:\n",
      "  %reload_ext autoreload\n"
     ]
    }
   ],
   "source": [
    "%load_ext autoreload\n",
    "%autoreload 2\n",
    "\n",
    "from pandas import Timestamp\n",
    "from astropy import constants as c, units as u\n",
    "import numpy as np\n",
    "import matplotlib.pyplot as plt\n",
    "import os\n",
    "import pipe\n",
    "import libPJC as my\n",
    "start_time = Timestamp.now()\n",
    "plt.rc('text', usetex=True)\n",
    "\n",
    "mocked = True                                                                                                           # TO CHANGE\n",
    "\n",
    "################### MOCK\n",
    "redshift = 1.996 # 4.\n",
    "N_grid = 512\n",
    "if mocked: L_box = 40. * u.Mpc                    # in Mpc /h (120. Bird_2023 p.15, LSS: 1380.)\n",
    "else: L_box = 60. * u.Mpc\n",
    "#boxSizes = [20.,40.,80.]*u.Mpc\n",
    "axionFrac = [\"010\", \"011\"] # %%%%%%%%%%%%%%%%%%%%%%%%%%%%%%%% vary for fisher variation: forests_m, forests_x\n",
    "delta = 0.01\n",
    "\n",
    "################### FOREST\n",
    "mpi_on = False\n",
    "#N_los = 30 # 50\n",
    "#HI = False\n",
    "\n",
    "################### ANALYZE\n",
    "J, Q, order = 9, 1, 2                                                                                                   # TO CHANGE\n",
    "log_binning = False\n",
    "fit = False\n",
    "savefigs = [True, True, True, True]\n",
    "filter_on = False\n",
    "window_on = False\n",
    "filterEnding = \"_F\" if filter_on else \"\"\n",
    "windowEnding = \"_W\" if window_on else \"\"\n",
    "\n",
    "#extraEnding=\"40_HPC3107\"\n",
    "\n",
    "dirName_plot = f\"../figs/foresting/{int(L_box.value)}_{N_grid}_{start_time.strftime('%Y%m%d_%H%M')}_J{J}\"\n",
    "\n",
    "if mocked:\n",
    "    dirName_in1 = \"forestsNBK\"\n",
    "    dirName_in2 = \"40_HPC3008\"\n",
    "    dirName_out = dirName_out = f\"statToolNBK40_HPC3007_J9\"\n",
    "else:\n",
    "    dirName_in1 = f\"fromHPC0308_AxioNyx/lowRes/forestsAxioNyx\"\n",
    "    dirName_in2 = f\"/download\"\n",
    "    dirName_out = f\"StatToolAxioNyx0308lowRes\"\n",
    "\n",
    "\n",
    "colors = [\n",
    "    [\"red\", \"lawngreen\"],\n",
    "    [\"green\", \"orangered\"],\n",
    "    [\"blue\", \"coral\"],\n",
    "    [\"blueviolet\", \"gold\"]\n",
    "]\n"
   ]
  },
  {
   "cell_type": "code",
   "execution_count": 2,
   "id": "bc4614e3",
   "metadata": {},
   "outputs": [
    {
     "data": {
      "text/plain": [
       "'for Fish in axionFrac:\\n    print(\"\\n=================\", Fish, \"=================\")\\n    dirName_plot = f\"../figs/foresting/{int(L_box.value)}_{N_grid}_{Fish}_{start_time.strftime(\\'%Y%m%d_%H%M\\')}\"\\n    pipe.mock(L_box, N_grid, Fish, redshift, start_time, dirName_plot)\\n    pipe.foresting(mpi_on, mocked, Fish, N_los, HI, start_time, dirName_plot)\\n    pipe.analyze(Fish, f\"{int(L_box.value)}\", mocked, J, Q, order, log_binning, fit, savefigs, start_time, dirName_plot)\\n'"
      ]
     },
     "execution_count": 2,
     "metadata": {},
     "output_type": "execute_result"
    }
   ],
   "source": [
    "# Run low resolution simulation in local\n",
    "\"\"\"for Fish in axionFrac:\n",
    "    print(\"\\n=================\", Fish, \"=================\")\n",
    "    dirName_plot = f\"../figs/foresting/{int(L_box.value)}_{N_grid}_{Fish}_{start_time.strftime('%Y%m%d_%H%M')}\"\n",
    "    pipe.mock(L_box, N_grid, Fish, redshift, start_time, dirName_plot)\n",
    "    pipe.foresting(mpi_on, mocked, Fish, N_los, HI, start_time, dirName_plot)\n",
    "    pipe.analyze(Fish, f\"{int(L_box.value)}\", mocked, J, Q, order, log_binning, fit, savefigs, start_time, dirName_plot)\n",
    "\"\"\""
   ]
  },
  {
   "cell_type": "code",
   "execution_count": 3,
   "id": "6f094447",
   "metadata": {},
   "outputs": [
    {
     "data": {
      "text/plain": [
       "'Fish=axionFrac[1]\\nprint(\"\\n=================\", Fish, \"=================\")\\npipe.mock(L_box, N_grid, Fish, redshift, start_time, dirName_plot)\\npipe.foresting(mpi_on, mocked, Fish, N_los, HI, start_time, dirName_plot)\\npipe.analyze(Fish, f\"{int(L_box.value)}\", mocked, J, Q, order, log_binning, fit, savefigs, start_time, dirName_plot)'"
      ]
     },
     "execution_count": 3,
     "metadata": {},
     "output_type": "execute_result"
    }
   ],
   "source": [
    "# Run low resolution simulation in local varying f_ax manually\n",
    "\"\"\"Fish=axionFrac[1]\n",
    "print(\"\\n=================\", Fish, \"=================\")\n",
    "pipe.mock(L_box, N_grid, Fish, redshift, start_time, dirName_plot)\n",
    "pipe.foresting(mpi_on, mocked, Fish, N_los, HI, start_time, dirName_plot)\n",
    "pipe.analyze(Fish, f\"{int(L_box.value)}\", mocked, J, Q, order, log_binning, fit, savefigs, start_time, dirName_plot)\"\"\""
   ]
  },
  {
   "cell_type": "code",
   "execution_count": null,
   "id": "2951aa4c",
   "metadata": {},
   "outputs": [
    {
     "ename": "ValueError",
     "evalue": "cannot reshape array of size 4194304 into shape (512,512,512)",
     "output_type": "error",
     "traceback": [
      "\u001b[0;31m---------------------------------------------------------------------------\u001b[0m",
      "\u001b[0;31mValueError\u001b[0m                                Traceback (most recent call last)",
      "Cell \u001b[0;32mIn[53], line 8\u001b[0m\n\u001b[1;32m      6\u001b[0m gamma \u001b[38;5;241m=\u001b[39m \u001b[38;5;241m1.6\u001b[39m \u001b[38;5;66;03m# T-ρ relation exponent McQuinn_2016 p.16 \u001b[39;00m\n\u001b[1;32m      7\u001b[0m T_0 \u001b[38;5;241m=\u001b[39m \u001b[38;5;241m1e4\u001b[39m \u001b[38;5;241m*\u001b[39mu\u001b[38;5;241m.\u001b[39mK \u001b[38;5;241m*\u001b[39m (\u001b[38;5;241m1\u001b[39m \u001b[38;5;241m+\u001b[39m redshift) \u001b[38;5;66;03m# Temperature at mean density McQuinn_2016 p.16              # in K\u001b[39;00m\n\u001b[0;32m----> 8\u001b[0m \u001b[43mmy\u001b[49m\u001b[38;5;241;43m.\u001b[39;49m\u001b[43mplotMock\u001b[49m\u001b[43m(\u001b[49m\u001b[43mL_box\u001b[49m\u001b[38;5;241;43m.\u001b[39;49m\u001b[43mvalue\u001b[49m\u001b[43m,\u001b[49m\u001b[43m \u001b[49m\u001b[43mN_grid\u001b[49m\u001b[43m,\u001b[49m\u001b[43m \u001b[49m\u001b[43mfiles\u001b[49m\u001b[43m,\u001b[49m\u001b[43m \u001b[49m\u001b[38;5;28;43;01mFalse\u001b[39;49;00m\u001b[43m,\u001b[49m\u001b[43m \u001b[49m\u001b[43mT_0\u001b[49m\u001b[43m,\u001b[49m\u001b[43m \u001b[49m\u001b[43mgamma\u001b[49m\u001b[43m,\u001b[49m\u001b[43m \u001b[49m\u001b[43mdirName_plot\u001b[49m\u001b[43m,\u001b[49m\u001b[43m \u001b[49m\u001b[38;5;124;43m\"\u001b[39;49m\u001b[38;5;124;43mtitle\u001b[39;49m\u001b[38;5;124;43m\"\u001b[39;49m\u001b[43m,\u001b[49m\u001b[43m \u001b[49m\u001b[43msavefig\u001b[49m\u001b[38;5;241;43m=\u001b[39;49m\u001b[38;5;28;43;01mTrue\u001b[39;49;00m\u001b[43m)\u001b[49m\n",
      "File \u001b[0;32m~/Desktop/wst-for-ly-alpha-forest/foresting/libPJC.py:876\u001b[0m, in \u001b[0;36mplotMock\u001b[0;34m(L_box, N_grid, files, mocked, T_0, gamma, dirName_plot, title, savefig)\u001b[0m\n\u001b[1;32m    863\u001b[0m \u001b[38;5;250m\u001b[39m\u001b[38;5;124;03m\"\"\"\u001b[39;00m\n\u001b[1;32m    864\u001b[0m \u001b[38;5;124;03mPlots 2D slices of mock simulation data.\u001b[39;00m\n\u001b[1;32m    865\u001b[0m \u001b[38;5;124;03m\u001b[39;00m\n\u001b[0;32m   (...)\u001b[0m\n\u001b[1;32m    873\u001b[0m \u001b[38;5;124;03m    savefig (bool): Save figure flag\u001b[39;00m\n\u001b[1;32m    874\u001b[0m \u001b[38;5;124;03m\"\"\"\u001b[39;00m\n\u001b[1;32m    875\u001b[0m \u001b[38;5;66;03m## DENSITY SLICE\u001b[39;00m\n\u001b[0;32m--> 876\u001b[0m den_field \u001b[38;5;241m=\u001b[39m \u001b[43mnp\u001b[49m\u001b[38;5;241;43m.\u001b[39;49m\u001b[43mload\u001b[49m\u001b[43m(\u001b[49m\u001b[43mfiles\u001b[49m\u001b[43m[\u001b[49m\u001b[38;5;124;43m\"\u001b[39;49m\u001b[38;5;124;43mdens\u001b[39;49m\u001b[38;5;124;43m\"\u001b[39;49m\u001b[43m]\u001b[49m\u001b[43m)\u001b[49m\u001b[38;5;241;43m.\u001b[39;49m\u001b[43mreshape\u001b[49m\u001b[43m(\u001b[49m\u001b[43m(\u001b[49m\u001b[43mN_grid\u001b[49m\u001b[43m,\u001b[49m\u001b[43m \u001b[49m\u001b[43mN_grid\u001b[49m\u001b[43m,\u001b[49m\u001b[43m \u001b[49m\u001b[43mN_grid\u001b[49m\u001b[43m)\u001b[49m\u001b[43m,\u001b[49m\u001b[43m \u001b[49m\u001b[43morder\u001b[49m\u001b[38;5;241;43m=\u001b[39;49m\u001b[38;5;124;43m'\u001b[39;49m\u001b[38;5;124;43mC\u001b[39;49m\u001b[38;5;124;43m'\u001b[39;49m\u001b[43m)\u001b[49m\n\u001b[1;32m    877\u001b[0m \u001b[38;5;28;01mif\u001b[39;00m \u001b[38;5;129;01mnot\u001b[39;00m mocked:\n\u001b[1;32m    878\u001b[0m     den_field \u001b[38;5;241m*\u001b[39m\u001b[38;5;241m=\u001b[39m \u001b[38;5;241m1e-9\u001b[39m \n",
      "\u001b[0;31mValueError\u001b[0m: cannot reshape array of size 4194304 into shape (512,512,512)"
     ]
    }
   ],
   "source": [
    "# plot mock\n",
    "%autoreload 2\n",
    "#files = {\"dens\": \"fromAxioNyx0208/forestsAxioNyx011/mock.npy\", \"vel_x\": \"fromAxioNyx0208/forestsAxioNyx011/vel_x.npy\", \"vel_y\": \"fromAxioNyx0208/forestsAxioNyx011/vel_y.npy\", \"vel_z\": \"fromAxioNyx0208/forestsAxioNyx011/vel_z.npy\", }\n",
    "#files = {\"dens\": \"fromAxioNyx0108/forestsAxioNyx011/512_11_Rho.npy\", \"vel_x\": \"fromAxioNyx0108/forestsAxioNyx011/512_11_Vx.npy\", \"vel_y\": \"fromAxioNyx0108/forestsAxioNyx011/512_11_Vy.npy\", \"vel_z\": \"fromAxioNyx0108/forestsAxioNyx011/512_11_Vz.npy\", }\n",
    "gamma = 1.6 # T-ρ relation exponent McQuinn_2016 p.16 \n",
    "T_0 = 1e4 *u.K * (1 + redshift) # Temperature at mean density McQuinn_2016 p.16              # in K\n",
    "my.plotMock(L_box.value, N_grid, files, False, T_0, gamma, dirName_plot, \"title\", savefig=True)\n"
   ]
  },
  {
   "cell_type": "code",
   "execution_count": null,
   "id": "165f5d67",
   "metadata": {},
   "outputs": [
    {
     "name": "stdout",
     "output_type": "stream",
     "text": [
      "----------------- sec 8.80: done importing, reading files\n",
      "sigma spec:  None sigma den:  None\n",
      "sigma PS:  None sigma WST:  None\n",
      "----------------- sec 8.80: getting data\n",
      "512\n",
      "Save to: ../figs/foresting/40_512_20250809_0052_J9_010_/spectra.pdf\n",
      "Save to: ../figs/foresting/40_512_20250809_0052_J9_010_/spectra_smooth.pdf\n",
      "############################----- DENSITY -----##############################\n",
      "----------------- sec 138.63: computing PDF\n",
      "densities zero? True\n",
      "Save to: ../figs/foresting/40_512_20250809_0052_J9_010_/pdf_densities3.pdf\n",
      "densities zero? True\n",
      "Save to: ../figs/foresting/40_512_20250809_0052_J9_010_/pdf_delta.pdf\n",
      "############################----- FLUX -----##############################\n",
      "----------------- sec 142.63: computing PDF\n",
      "densities zero? True\n",
      "Save to: ../figs/foresting/40_512_20250809_0052_J9_010_/pdf_flux.pdf\n",
      "densities zero? True\n",
      "Save to: ../figs/foresting/40_512_20250809_0052_J9_010_/pdf_deltaF.pdf\n",
      "----------------- sec 148.98: computing 1D power spectrum\n",
      "----------------- sec 150.71: fitting 1D power spectrum\n",
      "----------------- sec 150.71: translating to 3D\n",
      "shapes Pk, k:  (3, 50, 50, 256) (256,)\n",
      "----------------- sec 150.87: getting means&medians\n",
      "----------------- sec 151.93: computing 1D WST\n"
     ]
    },
    {
     "name": "stderr",
     "output_type": "stream",
     "text": [
      "/opt/anaconda3/envs/fake_spectra_env/lib/python3.8/site-packages/kymatio/scattering1d/filter_bank.py:218: UserWarning: Signal support is too small to avoid border effects\n",
      "  warnings.warn('Signal support is too small to avoid border effects')\n"
     ]
    },
    {
     "name": "stdout",
     "output_type": "stream",
     "text": [
      "1\n",
      "----------------- sec 183.89: saving powSpectrum to file\n",
      "----------------- sec 183.91: plotting power spectrum 1D\n",
      "Save to: ../figs/foresting/40_512_20250809_0052_J9_010_/1D_vel_FLUX.pdf\n",
      "----------------- sec 189.31: plotting power spectrum 3D\n",
      "Save to: ../figs/foresting/40_512_20250809_0052_J9_010_/3D_vel_FLUX.pdf\n",
      "----------------- sec 196.52: plotting WST general\n",
      "len WST at los 24:  (1,) len k: (1,) first WST value:  0.14456754156180396\n",
      "len WST at los 24:  (1,) len k: (1,) first WST value:  0.0005618992381367822\n",
      "len WST at los 24:  (1,) len k: (1,) first WST value:  0.00037657995506176344\n",
      "Save to: ../figs/foresting/40_512_20250809_0052_J9_010_/wst.pdf\n",
      "----------------- sec 200.35: plotting WST summarized\n",
      "Save to: ../figs/foresting/40_512_20250809_0052_J9_010_/wst_summary.pdf\n",
      "----------------- sec 203.10: DONE\n"
     ]
    }
   ],
   "source": [
    "# Analyze forests for f_ax=10%\n",
    "# in files x.csv, den_x.csv, den_y.csv, den_z.csv, lambda_range.csv, forest_x.csv, forest_y.csv, forest_z.csv in folder /forestsNBK01040_HPC3008\n",
    "# save stat arrays to folder /statToolNBK40_HPC3008\n",
    "#%autoreload 2\n",
    "axfrac=\"010\"\n",
    "pipe.analyze(axfrac, f\"{int(L_box.value)}{filterEnding}{windowEnding}\",\n",
    "             mocked, J, Q, order, log_binning, fit,\n",
    "             savefigs, start_time, f\"{dirName_plot}_{axfrac}_{filterEnding}{windowEnding}\", extraEnding=\"\", csv_on=True,\n",
    "             filter_on=filter_on, window_on=window_on, dirName_in=f\"{dirName_in1}{axfrac}{dirName_in2}\", dirName_out=dirName_out)\n",
    "\n",
    "                                                                                                   # TO CHANGE\n",
    "# AxioNYX 512Grid 1600los fromHPC0308_AxioNyx/lowRes/forestsAxioNyx010/download\n",
    "# NBK 512grid 900los 1536spec: forestsNBK01040_HPC3008\n",
    "# AxioNyx 512grid 225los 15360spec: fromHPC0308_AxioNyx/forestsAxioNyx010/downloadhighRes"
   ]
  },
  {
   "cell_type": "code",
   "execution_count": 31,
   "id": "aef5a238",
   "metadata": {},
   "outputs": [
    {
     "name": "stdout",
     "output_type": "stream",
     "text": [
      "----------------- sec 203.54: done importing, reading files\n",
      "sigma spec:  None sigma den:  None\n",
      "sigma PS:  None sigma WST:  None\n",
      "----------------- sec 203.54: getting data\n",
      "512\n",
      "Save to: ../figs/foresting/40_512_20250809_0052_J9_011_/spectra.pdf\n",
      "Save to: ../figs/foresting/40_512_20250809_0052_J9_011_/spectra_smooth.pdf\n",
      "############################----- DENSITY -----##############################\n",
      "----------------- sec 417.07: computing PDF\n",
      "densities zero? True\n",
      "Save to: ../figs/foresting/40_512_20250809_0052_J9_011_/pdf_densities3.pdf\n",
      "densities zero? True\n",
      "Save to: ../figs/foresting/40_512_20250809_0052_J9_011_/pdf_delta.pdf\n",
      "############################----- FLUX -----##############################\n",
      "----------------- sec 420.82: computing PDF\n",
      "densities zero? True\n",
      "Save to: ../figs/foresting/40_512_20250809_0052_J9_011_/pdf_flux.pdf\n",
      "densities zero? True\n",
      "Save to: ../figs/foresting/40_512_20250809_0052_J9_011_/pdf_deltaF.pdf\n",
      "----------------- sec 426.49: computing 1D power spectrum\n",
      "----------------- sec 427.21: fitting 1D power spectrum\n",
      "----------------- sec 427.21: translating to 3D\n",
      "shapes Pk, k:  (3, 50, 50, 256) (256,)\n",
      "----------------- sec 427.33: getting means&medians\n",
      "----------------- sec 427.92: computing 1D WST\n"
     ]
    },
    {
     "name": "stderr",
     "output_type": "stream",
     "text": [
      "/opt/anaconda3/envs/fake_spectra_env/lib/python3.8/site-packages/kymatio/scattering1d/filter_bank.py:218: UserWarning: Signal support is too small to avoid border effects\n",
      "  warnings.warn('Signal support is too small to avoid border effects')\n"
     ]
    },
    {
     "name": "stdout",
     "output_type": "stream",
     "text": [
      "1\n",
      "----------------- sec 452.43: saving powSpectrum to file\n",
      "----------------- sec 452.52: plotting power spectrum 1D\n",
      "Save to: ../figs/foresting/40_512_20250809_0052_J9_011_/1D_vel_FLUX.pdf\n",
      "----------------- sec 456.23: plotting power spectrum 3D\n",
      "Save to: ../figs/foresting/40_512_20250809_0052_J9_011_/3D_vel_FLUX.pdf\n",
      "----------------- sec 462.19: plotting WST general\n",
      "len WST at los 24:  (1,) len k: (1,) first WST value:  0.11510284139865858\n",
      "len WST at los 24:  (1,) len k: (1,) first WST value:  1.2756889159900157e-05\n",
      "len WST at los 24:  (1,) len k: (1,) first WST value:  0.0004677946588526024\n",
      "Save to: ../figs/foresting/40_512_20250809_0052_J9_011_/wst.pdf\n",
      "----------------- sec 465.16: plotting WST summarized\n",
      "Save to: ../figs/foresting/40_512_20250809_0052_J9_011_/wst_summary.pdf\n",
      "----------------- sec 467.57: DONE\n"
     ]
    }
   ],
   "source": [
    "# Analyze forests for f_ax=11%\n",
    "# in files x.csv, den_x.csv, den_y.csv, den_z.csv, lambda_range.csv, forest_x.csv, forest_y.csv, forest_z.csv in folder /forestsNBK01140_HPC3008\n",
    "# save stat arrays to folder /statToolNBK40_HPC3008\n",
    "axfrac=\"011\"\n",
    "pipe.analyze(axfrac, f\"{int(L_box.value)}{filterEnding}{windowEnding}\",\n",
    "             mocked, J, Q, order, log_binning, fit,\n",
    "             savefigs, start_time, f\"{dirName_plot}_{axfrac}_{filterEnding}{windowEnding}\", extraEnding=\"\", csv_on=True,\n",
    "             filter_on=filter_on, window_on=window_on, dirName_in=f\"{dirName_in1}{axfrac}{dirName_in2}\", dirName_out=dirName_out)\n",
    "\n",
    "                                                                                                   # TO CHANGE\n",
    "# AxioNYX 512Grid 1600los fromHPC0308_AxioNyx/lowRes/forestsAxioNyx011/download\n",
    "# NBK 512grid 900los 1536spec: forestsNBK01140_HPC3008\n",
    "# AxioNyx 512grid 225los 15360spec: fromHPC0308_AxioNyx/forestsAxioNyx011/downloadhighRes"
   ]
  },
  {
   "cell_type": "code",
   "execution_count": 29,
   "id": "752c9bc2",
   "metadata": {},
   "outputs": [],
   "source": [
    "# Load probability density functions\n",
    "%autoreload 2\n",
    "pdf_rho = []\n",
    "pdf_drho = []\n",
    "pdf_F = []\n",
    "pdf_dF = []\n",
    "for Fish in axionFrac:\n",
    "    pdf_rho.append(np.load(f\"{dirName_out}/pdf{Fish}{int(L_box.value)}_densities3.npy\", allow_pickle=True).item())\n",
    "    pdf_drho.append(np.load(f\"{dirName_out}/pdf{Fish}{int(L_box.value)}_delta.npy\", allow_pickle=True).item())\n",
    "    pdf_F.append(np.load(f\"{dirName_out}/pdf{Fish}{int(L_box.value)}_flux.npy\", allow_pickle=True).item())\n",
    "    pdf_dF.append(np.load(f\"{dirName_out}/pdf{Fish}{int(L_box.value)}_deltaF.npy\", allow_pickle=True).item())\n"
   ]
  },
  {
   "cell_type": "code",
   "execution_count": 33,
   "id": "deba60de",
   "metadata": {},
   "outputs": [
    {
     "name": "stdout",
     "output_type": "stream",
     "text": [
      "Save to: ../figs/foresting/60_512_20250805_1535_J9/6_pdfsCompared.pdf\n"
     ]
    }
   ],
   "source": [
    "# Plot probability density functions\n",
    "markers = [\".\", \"*\"]\n",
    "labels = [r\"$f_{ax}=10\\%$\", r\"$f_{ax}=11\\%$\"]\n",
    "\n",
    "plt.figure(figsize=(9, 6))\n",
    "gs_spectra = plt.GridSpec(2, 2, width_ratios=[1, 1]) \n",
    "ax_rho = plt.subplot(gs_spectra[0, 0])  \n",
    "ax_drho = plt.subplot(gs_spectra[1, 0])  \n",
    "ax_F = plt.subplot(gs_spectra[0, 1])\n",
    "ax_dF = plt.subplot(gs_spectra[1, 1])\n",
    "for i in range(2):\n",
    "    ax_rho.plot(pdf_rho[i][\"x\"][:-1], pdf_rho[i][\"y\"], c=colors[0][i], label=labels[i], alpha=.5) # , s=3, marker=markers[i])\n",
    "    ax_drho.plot(pdf_drho[i][\"x\"][:-1], pdf_drho[i][\"y\"], c=colors[1][i], label=labels[i], alpha=.5) # , s=3, marker=markers[i])\n",
    "    ax_F.plot(pdf_F[i][\"x\"][:-1], pdf_F[i][\"y\"], c=colors[2][i], label=labels[i], alpha=.5) # , s=3, marker=markers[i])\n",
    "    ax_dF.plot(pdf_dF[i][\"x\"][:-1], pdf_dF[i][\"y\"], c=colors[3][i], label=labels[i], alpha=.5) # , s=3, marker=markers[i])\n",
    "\"\"\"\n",
    "    ax_rho.plot(pdf_rho[i][\"x\"][:-1:10], pdf_rho[i][\"y\"][::10], c=colors[0][i], label=labels[i], alpha=.5) # , s=3, marker=markers[i])\n",
    "    ax_drho.plot(pdf_drho[i][\"x\"][:-1:10], pdf_drho[i][\"y\"][::10], c=colors[1][i], alpha=.5) # , s=3, marker=markers[i])\n",
    "    ax_F.plot(pdf_F[i][\"x\"][:-1:10], pdf_F[i][\"y\"][::10], c=colors[2][i], alpha=.5) # , s=3, marker=markers[i])\n",
    "    ax_dF.plot(pdf_dF[i][\"x\"][:-1:10], pdf_dF[i][\"y\"][::10], c=colors[3][i], alpha=.5) # , s=3, marker=markers[i])\n",
    "\"\"\"\n",
    "ax_rho.set_xlabel(r\"Matter density $\\varrho$\")\n",
    "ax_rho.set_ylabel(r\"$N_\\mathrm{cells}$\")\n",
    "#ax_rho.set_yscale(\"log\")\n",
    "#ax_rho.set_xscale(\"log\")\n",
    "ax_rho.set_xlim(left=0, right=.2)\n",
    "ax_rho.legend(loc=\"upper right\")\n",
    "\n",
    "ax_drho.set_xlabel(r\"Density perturbations $\\delta$\")\n",
    "ax_drho.set_ylabel(r\"$N_\\mathrm{cells}$\")\n",
    "#ax_drho.set_xscale(\"log\")\n",
    "ax_drho.set_xlim(left=0, right=2)\n",
    "#ax_drho.set_xlim(left=1e-4, right=1e2)\n",
    "ax_drho.legend(loc=\"upper right\")\n",
    "\n",
    "ax_F.set_xlabel(r\"Flux $F$\")\n",
    "ax_F.set_ylabel(r\"$N_\\mathrm{cells}$\")\n",
    "ax_F.set_yscale(\"log\")\n",
    "ax_F.legend(loc=\"upper center\")\n",
    "\n",
    "ax_dF.set_xlabel(r\"Flux perturbations $\\delta F$\")\n",
    "ax_dF.set_ylabel(r\"$N_\\mathrm{cells}$\")\n",
    "ax_dF.set_xscale(\"log\")\n",
    "ax_dF.set_yscale(\"log\")\n",
    "ax_dF.legend(loc=\"upper left\")\n",
    "\n",
    "my.plotSave(f\"6_pdfsCompared\", dirName_plot, \"title\", True)\n"
   ]
  },
  {
   "cell_type": "code",
   "execution_count": null,
   "id": "9832aaba",
   "metadata": {},
   "outputs": [
    {
     "data": {
      "text/plain": [
       "'%autoreload 2\\nfor L_box in boxSizes:\\n    print(\"\\n=================\", L_box, \"=================\")\\n    dirName_plot = f\"../figs/foresting/{int(L_box.value)}_{N_grid}_{axionFrac}_{start_time.strftime(\\'%Y%m%d_%H%M\\')}\"\\n    #pipe.mock(L_box, N_grid, axionFrac, redshift, start_time, dirName_plot)\\n    #pipe.foresting(mpi_on, mocked, axionFrac, N_los, HI, start_time, dirName_plot)\\n    pipe.analyze(axionFrac, f\"{int(L_box.value)}\", mocked, J, Q, order, log_binning, fit, savefigs,\\n                 start_time, dirName_plot, dirName_in=f\"fromHPC_3107/forestsNBK010{int(L_box.value)}/download\")#, extraEnding=\"HPC_3107\")\\n'"
      ]
     },
     "execution_count": 81,
     "metadata": {},
     "output_type": "execute_result"
    }
   ],
   "source": [
    "# Analyze forests for different boxsizes\n",
    "\"\"\"%autoreload 2\n",
    "for L_box in boxSizes:\n",
    "    print(\"\\n=================\", L_box, \"=================\")\n",
    "    dirName_plot = f\"../figs/foresting/{int(L_box.value)}_{N_grid}_{axionFrac}_{start_time.strftime('%Y%m%d_%H%M')}\"\n",
    "    #pipe.mock(L_box, N_grid, axionFrac, redshift, start_time, dirName_plot)\n",
    "    #pipe.foresting(mpi_on, mocked, axionFrac, N_los, HI, start_time, dirName_plot)\n",
    "    pipe.analyze(axionFrac, f\"{int(L_box.value)}\", mocked, J, Q, order, log_binning, fit, savefigs,\n",
    "                 start_time, dirName_plot, dirName_in=f\"fromHPC_3107/forestsNBK010{int(L_box.value)}/download\")#, extraEnding=\"HPC_3107\")\n",
    "\"\"\""
   ]
  },
  {
   "cell_type": "code",
   "execution_count": null,
   "id": "dee3d27b",
   "metadata": {},
   "outputs": [
    {
     "data": {
      "text/plain": [
       "'k = []\\nPk = []\\nPk3D = []\\naxfrac=\"010\"\\nfor box in boxSizes:\\n    k_temp=np.load(f\"statToolNBK/kPS_{axfrac}{int(box.value)}.npy\")\\n    Pk_temp = np.load(f\"statToolNBK/powSpectrum{axfrac}{int(box.value)}.npy\")\\n    Pk_temp = np.mean(Pk_temp, axis=-1)\\n    Pk_temp=k_temp**3 * my.oneD_to_threeD_powSpectr(Pk_temp, k_temp, None)\\n    k.append(k_temp)\\n    Pk.append(Pk_temp)\\n    Pk3D.append(my.oneD_to_threeD_powSpectr(Pk_temp, k_temp, sigma_filter=None) * k_temp**3 /(2*np.pi**2))\\nprint(len(k), len(Pk))'"
      ]
     },
     "execution_count": 82,
     "metadata": {},
     "output_type": "execute_result"
    }
   ],
   "source": [
    "# Load power spectra for different Boxsizes\n",
    "\"\"\"k = []\n",
    "Pk = []\n",
    "Pk3D = []\n",
    "axfrac=\"010\"\n",
    "for box in boxSizes:\n",
    "    k_temp=np.load(f\"statToolNBK/kPS_{axfrac}{int(box.value)}.npy\")\n",
    "    Pk_temp = np.load(f\"statToolNBK/powSpectrum{axfrac}{int(box.value)}.npy\")\n",
    "    Pk_temp = np.mean(Pk_temp, axis=-1)\n",
    "    Pk_temp=k_temp**3 * my.oneD_to_threeD_powSpectr(Pk_temp, k_temp, None)\n",
    "    k.append(k_temp)\n",
    "    Pk.append(Pk_temp)\n",
    "    Pk3D.append(my.oneD_to_threeD_powSpectr(Pk_temp, k_temp, sigma_filter=None) * k_temp**3 /(2*np.pi**2))\n",
    "print(len(k), len(Pk))\"\"\""
   ]
  },
  {
   "cell_type": "code",
   "execution_count": null,
   "id": "a00a926e",
   "metadata": {},
   "outputs": [
    {
     "data": {
      "text/plain": [
       "'%autoreload 2\\ntitle = \"PS slices\"\\nmy.plotTogether(k, Pk, \"overlay\", dirName_plot, [\"20Mpc/h\", \"40Mpc/h\", \"80Mpc/h\"], \"$k$ [s/km]\", \"$P(k)$ [s/km]\", title=title, loglog=True, savefig=True, ylim=None)\\nmy.plotTogether(k, Pk3D, \"overlay3D\", dirName_plot, [\"20Mpc/h\", \"40Mpc/h\", \"80Mpc/h\"], \"$k$ [s/km]\", \"$P(k)$ [s/km]\", title=title, loglog=True, savefig=True, ylim=(1e-6,None))\\n'"
      ]
     },
     "execution_count": 83,
     "metadata": {},
     "output_type": "execute_result"
    }
   ],
   "source": [
    "# Plot power spectra for different Boxsizes\n",
    "\"\"\"%autoreload 2\n",
    "title = \"PS slices\"\n",
    "my.plotTogether(k, Pk, \"overlay\", dirName_plot, [\"20Mpc/h\", \"40Mpc/h\", \"80Mpc/h\"], \"$k$ [s/km]\", \"$P(k)$ [s/km]\", title=title, loglog=True, savefig=True, ylim=None)\n",
    "my.plotTogether(k, Pk3D, \"overlay3D\", dirName_plot, [\"20Mpc/h\", \"40Mpc/h\", \"80Mpc/h\"], \"$k$ [s/km]\", \"$P(k)$ [s/km]\", title=title, loglog=True, savefig=True, ylim=(1e-6,None))\n",
    "\"\"\""
   ]
  },
  {
   "cell_type": "code",
   "execution_count": null,
   "id": "deffe2e3",
   "metadata": {},
   "outputs": [
    {
     "data": {
      "text/plain": [
       "'_, ax = plt.subplots(1, 1, num=1, figsize=(9, 12), clear=True)\\ntextytext=r\"$f_{ax}=$\"\\npercentage=[\"1\", \"5\", \"10\", \"11\", \"20\", \"50\", \"100\"]\\naxins = ax.inset_axes([.1, .07, 0.5, 0.2], xlim=(4e-1, 1e0), ylim=(1e1, 5e1), xticklabels=[], yticklabels=[])\\nfor i,f_ax in enumerate([\"001\", \"005\", \"010\", \"011\", \"020\", \"050\", \"100\"]):\\n    print(\"\\n=================\", f_ax, \"=================\")\\n    data_axionCAMB = np.loadtxt(f\"Archive/PJC_{f_ax}_matterpower.dat\")\\n    ax.loglog(data_axionCAMB[:, 0], data_axionCAMB[:, 1], label=f\"{textytext}{percentage[i]}\\\\%\")\\n    axins.loglog(data_axionCAMB[:, 0], data_axionCAMB[:, 1])\\nax.indicate_inset_zoom(axins, edgecolor=\"black\")\\naxins.set_xticks([])                                    \\naxins.set_yticks([]) \\naxins.tick_params(axis=\\'x\\', which=\\'both\\', bottom=False)  # Hides ticks\\n\\nplt.legend(loc=\"upper right\")\\nplt.ylim(bottom=1e-3)\\nplt.xlim(right=1e2)\\nmy.plotSave(\"transfer_funcs\", dirName_plot, \"Matter PS with varying axion fraction\", True)'"
      ]
     },
     "execution_count": 84,
     "metadata": {},
     "output_type": "execute_result"
    }
   ],
   "source": [
    "# Plot matter power spectrum for different f_ax\n",
    "\"\"\"_, ax = plt.subplots(1, 1, num=1, figsize=(9, 12), clear=True)\n",
    "textytext=r\"$f_{ax}=$\"\n",
    "percentage=[\"1\", \"5\", \"10\", \"11\", \"20\", \"50\", \"100\"]\n",
    "axins = ax.inset_axes([.1, .07, 0.5, 0.2], xlim=(4e-1, 1e0), ylim=(1e1, 5e1), xticklabels=[], yticklabels=[])\n",
    "for i,f_ax in enumerate([\"001\", \"005\", \"010\", \"011\", \"020\", \"050\", \"100\"]):\n",
    "    print(\"\\n=================\", f_ax, \"=================\")\n",
    "    data_axionCAMB = np.loadtxt(f\"Archive/PJC_{f_ax}_matterpower.dat\")\n",
    "    ax.loglog(data_axionCAMB[:, 0], data_axionCAMB[:, 1], label=f\"{textytext}{percentage[i]}\\%\")\n",
    "    axins.loglog(data_axionCAMB[:, 0], data_axionCAMB[:, 1])\n",
    "ax.indicate_inset_zoom(axins, edgecolor=\"black\")\n",
    "axins.set_xticks([])                                    \n",
    "axins.set_yticks([]) \n",
    "axins.tick_params(axis='x', which='both', bottom=False)  # Hides ticks\n",
    "\n",
    "plt.legend(loc=\"upper right\")\n",
    "plt.ylim(bottom=1e-3)\n",
    "plt.xlim(right=1e2)\n",
    "my.plotSave(\"transfer_funcs\", dirName_plot, \"Matter PS with varying axion fraction\", True)\"\"\""
   ]
  },
  {
   "cell_type": "code",
   "execution_count": 32,
   "id": "75a905df",
   "metadata": {},
   "outputs": [
    {
     "name": "stdout",
     "output_type": "stream",
     "text": [
      "kPS: (256,) PS: (256, 7500) \n",
      "kWST: (52,) WST: (52, 7500)\n",
      "WST coeff names:  ['(0,)' '(1,)' '(2,)' '(3,)' '(4,)' '(5,)' '(6,)' '(7,)' '(8,)' '(9,)'\n",
      " '(0, 3)' '(0, 4)' '(0, 5)' '(0, 6)' '(0, 7)' '(0, 8)' '(0, 9)' '(1, 3)'\n",
      " '(1, 4)' '(1, 5)' '(1, 6)' '(1, 7)' '(1, 8)' '(1, 9)' '(2, 3)' '(2, 4)'\n",
      " '(2, 5)' '(2, 6)' '(2, 7)' '(2, 8)' '(2, 9)' '(3, 4)' '(3, 5)' '(3, 6)'\n",
      " '(3, 7)' '(3, 8)' '(3, 9)' '(4, 5)' '(4, 6)' '(4, 7)' '(4, 8)' '(4, 9)'\n",
      " '(5, 6)' '(5, 7)' '(5, 8)' '(5, 9)' '(6, 7)' '(6, 8)' '(6, 9)' '(7, 8)'\n",
      " '(7, 9)' '(8, 9)']\n"
     ]
    }
   ],
   "source": [
    "# Load flux power spectra and wavelet scattering transforms\n",
    "kPk = []\n",
    "Pk = []\n",
    "Pk_W = []\n",
    "Pk_F = []\n",
    "kWST = []\n",
    "WST = []\n",
    "#L_box = 40. *u.Mpc\n",
    "#extraEnding = \"40_HPC3007\"\n",
    "for Fish in axionFrac:\n",
    "    kPk_temp=np.load(f\"{dirName_out}/kPS_{Fish}{int(L_box.value)}.npy\")\n",
    "    Pk_temp = np.load(f\"{dirName_out}/powSpectrum{Fish}{int(L_box.value)}.npy\")\n",
    "    #Pk_temp_F = np.load(f\"{dirName_out}/powSpectrum{Fish}{int(L_box.value)}_F.npy\")\n",
    "    #Pk_temp_W = np.load(f\"{dirName_out}/powSpectrum{Fish}{int(L_box.value)}_W.npy\")\n",
    "    #Pk_temp = np.mean(Pk_temp, axis=-1)\n",
    "    #Pk_temp=k_temp**3 * my.oneD_to_threeD_powSpectr(Pk_temp, k_temp, None)\n",
    "\n",
    "    kWST_temp = np.load(f\"{dirName_out}/kWST_{Fish}{int(L_box.value)}.npy\")\n",
    "    WST_temp = np.load(f\"{dirName_out}/WST{Fish}{int(L_box.value)}.npy\")\n",
    "    #WST_temp = np.mean(WST_temp, axis=-1)\n",
    "\n",
    "    kPk.append(kPk_temp)\n",
    "    Pk.append(Pk_temp)\n",
    "    #Pk_F.append(Pk_temp_F)\n",
    "    #Pk_W.append(Pk_temp_W)\n",
    "    kWST.append(kWST_temp[1:]) # take out zeroth coeff from WST (neg corr!)\n",
    "    WST.append(WST_temp[1:])\n",
    "   \n",
    "\n",
    "print(\"kPS:\", kPk[0].shape, \"PS:\", Pk[0].shape, \"\\nkWST:\", kWST[0].shape, \"WST:\", WST[0].shape)\n",
    "print(\"WST coeff names: \", kWST[0])"
   ]
  },
  {
   "cell_type": "code",
   "execution_count": 33,
   "id": "218de292",
   "metadata": {},
   "outputs": [
    {
     "name": "stdout",
     "output_type": "stream",
     "text": [
      "(256, 7500)\n",
      "(256,)\n"
     ]
    }
   ],
   "source": [
    "# Average PS over realizations\n",
    "print(Pk[0].shape) # Pk[axFrac] is of shape (N_grid, 3*N_los*N_los)\n",
    "print(kPk[0].shape) # k[axFrac] is of shape (N_grid,)\n",
    "Pk_mean = [np.mean(Pk[0], axis=1), np.mean(Pk[1], axis=1)]\n",
    "#Pk_mean_F = [np.mean(Pk_F[0], axis=1), np.mean(Pk_F[1], axis=1)]\n",
    "#Pk_mean_W = [np.mean(Pk_W[0], axis=1), np.mean(Pk_W[1], axis=1)]\n",
    "mask = [((~np.isnan(Pk_mean[0])) & (Pk_mean[0]> 0)), ((~np.isnan(Pk_mean[1])) & (Pk_mean[1]> 0))]\n",
    "#mask_F = [((~np.isnan(Pk_mean_F[0])) & (Pk_mean_F[0]> 0)), ((~np.isnan(Pk_mean_F[1])) & (Pk_mean_F[1]> 0))]\n",
    "#mask_W = [((~np.isnan(Pk_mean_W[0])) & (Pk_mean_W[0]> 0)), ((~np.isnan(Pk_mean_W[1])) & (Pk_mean_W[1]> 0))]\n",
    "\n",
    "alpha=[1, .5]\n",
    "labels = [\n",
    "    [r\"$f_{ax}=10\\%$\", r\"$f_{ax}=11\\%$\"],\n",
    "    [r\"$f_{ax}=10\\%$, with $W(k)$\", r\"$f_{ax}=11\\%$, with $W(k)$\"],\n",
    "    [r\"$f_{ax}=10\\%$, smoothed spectra\", r\"$f_{ax}=11\\% $, smoothed spectra\"]\n",
    "]"
   ]
  },
  {
   "cell_type": "code",
   "execution_count": 36,
   "id": "5a69d964",
   "metadata": {},
   "outputs": [
    {
     "name": "stdout",
     "output_type": "stream",
     "text": [
      "Save to: ../figs/foresting/60_512_20250805_1535_J9/9_PS_fax_one.pdf\n"
     ]
    }
   ],
   "source": [
    "# Plot f_ax variation in flux PS\n",
    "%autoreload 2\n",
    "if False:\n",
    "    plt.figure(figsize=(15, 10), clear=True)\n",
    "    gs_spectra = plt.GridSpec(1, 2, width_ratios=[1, 1]) # plt.GridSpec(1, 3, width_ratios=[1, 1, 1]) \n",
    "    ax = plt.subplot(gs_spectra[0])  \n",
    "    #ax_F = plt.subplot(gs_spectra[1], sharey=ax)\n",
    "    ax_W = plt.subplot(gs_spectra[2], sharey=ax)\n",
    "    for i in range(2):\n",
    "        ax.loglog(kPk[i][mask[i]], Pk_mean[i][mask[i]], label=labels[0][i], c=colors[0][i], ls=lineStyle[i])\n",
    "        #ax_F.loglog(kPk[i][mask[i]], Pk_mean_F[i][mask[i]], label=labels[1][i], c=\"red\", ls=lineStyle[i])\n",
    "        ax_W.loglog(kPk[i][mask[i]], Pk_mean_W[i][mask[i]], label=labels[1][i], c=colors[1][i], ls=lineStyle[i])\n",
    "    #plt.setp(ax_F.get_yticklabels(), visible=False)\n",
    "    plt.setp(ax_W.get_yticklabels(), visible=False)\n",
    "    ax.xlabel(r\"$k\\ [\\mathrm{s/km}]$\")\n",
    "    #ax_F.xlabel(r\"$k\\ [\\mathrm{s/km}]$\")\n",
    "    ax_W.xlabel(r\"$k\\ [\\mathrm{s/km}]$\")\n",
    "    ax.ylabel(r\"$P_{flux}(k)\\ [\\mathrm{km/s}]$\")\n",
    "    plt.legend(loc=\"lower left\")\n",
    "    my.plotSave(f\"9_PS_fax_grid\", dirName_plot, \"title\", True)\n",
    "else:\n",
    "    _, ax = plt.subplots(1, 1, num=1, figsize=(9, 12), clear=True)\n",
    "    axins = ax.inset_axes([.09, .05, 0.3, 0.4], xlim=(7e-2, 2e-1), ylim=(1e-3, 1e-2), xticklabels=[], yticklabels=[])\n",
    "\n",
    "    # axfrac==0\n",
    "    ax.scatter(kPk[0][mask[0]], Pk_mean[0][mask[0]], label=labels[0][0], c=colors[0][0], s=40)\n",
    "    #ax.scatter(kPk[0][mask[0]], Pk_mean_W[0][mask[0]], label=labels[1][0], c=colors[3][0], s=40)\n",
    "    axins.scatter(kPk[0][mask[0]], Pk_mean[0][mask[0]], c=colors[0][0], s=100)\n",
    "    #axins.scatter(kPk[0][mask[0]], Pk_mean_W[0][mask[0]], c=colors[3][0], s=100)\n",
    "\n",
    "    # axfrac==1\n",
    "    ax.scatter(kPk[1][mask[1]], Pk_mean[1][mask[1]], label=labels[0][1], c=colors[0][1], s=15, marker=\".\")\n",
    "    #ax.scatter(kPk[1][mask[1]], Pk_mean_W[1][mask[1]], label=labels[1][1], c=colors[3][1], s=15, marker=\".\")\n",
    "    axins.scatter(kPk[1][mask[1]], Pk_mean[1][mask[1]], c=colors[0][1], s=60, marker=\".\")\n",
    "    #axins.scatter(kPk[1][mask[1]], Pk_mean_W[1][mask[1]], c=colors[3][1], s=60, marker=\".\")\n",
    "    \n",
    "    ax.indicate_inset_zoom(axins, edgecolor=\"black\")\n",
    "    axins.set_xticks([])                                    \n",
    "    axins.set_yticks([]) \n",
    "    axins.tick_params(axis='x', which='both', bottom=False)  # Hides ticks\n",
    "\n",
    "    ax.set_xscale(\"log\")\n",
    "    ax.set_yscale(\"log\")\n",
    "    axins.set_xscale(\"log\")\n",
    "    axins.set_yscale(\"log\")\n",
    "    ax.set_xlabel(r\"$k\\ [\\mathrm{s/km}]$\")\n",
    "    ax.legend(loc=\"upper right\")\n",
    "    my.plotSave(\"9_PS_fax_one\", dirName_plot, \"title\", True)\n",
    "\n"
   ]
  },
  {
   "cell_type": "code",
   "execution_count": 43,
   "id": "563c09cc",
   "metadata": {},
   "outputs": [
    {
     "name": "stdout",
     "output_type": "stream",
     "text": [
      "(18, 4800)\n",
      "(18,)\n"
     ]
    }
   ],
   "source": [
    "# Average WST over realizations\n",
    "print(WST[0].shape) # WST[axFrac] is of shape (N_coeffs, 3*N_los*N_los)\n",
    "print(kWST[0].shape) # kWST[axFrac] is of shape (N_coeffs,)\n",
    "WST_mean = [np.mean(WST[0], axis=1), np.mean(WST[1], axis=1)]\n",
    "\n",
    "labels = [r\"$f_{ax}=10\\%$\", r\"$f_{ax}=11\\%$\"]\n",
    "markers = [\"x\", \"+\"]\n",
    "\n",
    "coeff_lengths = np.empty(order + 1, dtype=np.int8)\n",
    "for i in range(order + 1):\n",
    "    coeff_lengths[i] = i * J  # [1,6,12] for J=5, order=2\n",
    "coeff_lengths[0] = 1\n",
    "a = 0\n",
    "\n",
    "ylabels = [r\"$S_1$\", r\"$S_2$\"]\n",
    "xlabels = [r\"$j_1$\", r\"$(j_1, j_2)$\"]\n"
   ]
  },
  {
   "cell_type": "code",
   "execution_count": 44,
   "id": "4c73a973",
   "metadata": {},
   "outputs": [
    {
     "name": "stdout",
     "output_type": "stream",
     "text": [
      "Save to: ../figs/foresting/60_512_20250805_1710_J9/wst_axFracs.pdf\n"
     ]
    }
   ],
   "source": [
    "# Plot f_ax variation in WST\n",
    "_, ax = plt.subplots(1, order, sharey=False, num=1, figsize=(17, 6), clear=True)\n",
    "\n",
    "for axFrac in range(2):\n",
    "    std_above = np.zeros_like(WST_mean[axFrac])\n",
    "    std_below = np.zeros_like(WST_mean[axFrac])\n",
    "    for i in range(len(WST_mean[axFrac])):\n",
    "        above = WST[axFrac][i,:][WST[axFrac][i,:] > WST_mean[axFrac][i]] # y[:, i][y[:, i] > y_tot[i]]\n",
    "        below = WST[axFrac][i,:][WST[axFrac][i,:] < WST_mean[axFrac][i]]\n",
    "        std_above[i] = np.sqrt(np.mean((above - WST_mean[axFrac][i])**2)) if len(above) > 0 else 0\n",
    "        std_below[i] = np.sqrt(np.mean((below - WST_mean[axFrac][i])**2)) if len(below) > 0 else 0\n",
    "    \n",
    "    for ord in range(order):  # do the different plots for each order separately\n",
    "        xlength = coeff_lengths[ord + 1]\n",
    "        a += coeff_lengths[ord]\n",
    "        b = a + xlength\n",
    "        # print(\"a: \", a, \"b: \", b)\n",
    "        ax[ord].errorbar(\n",
    "                kWST[axFrac][a:b], WST_mean[axFrac][a:b], yerr=(std_below[a:b], std_above[a:b]), \n",
    "                label=r\"Standard deviation\", c=\"darkviolet\", alpha=.3, fmt='none',\n",
    "            )\n",
    "        ax[ord].scatter(kWST[axFrac][a:b], WST_mean[axFrac][a:b], c=colors[2][axFrac], marker=markers[axFrac], s=50, label=labels[axFrac])  # plot mean wrt \"k\" of means wrt LOS\n",
    "        ax[ord].set_ylabel(ylabels[ord])\n",
    "        ax[ord].set_xlabel(xlabels[ord])\n",
    "        \"\"\"\n",
    "        axins = ax[0].inset_axes([0.5, 0.5, 0.47, 0.47], xlim=(.5, 2.5), ylim=(.05, .065), xticklabels=[], yticklabels=[])\n",
    "        axins.scatter(kWST[0][a:b], WST_mean[0][a:b], c=colors[2][0], marker=markers[0], s=100)\n",
    "        axins.scatter(kWST[1][a:b], WST_mean[1][a:b], c=colors[2][1], marker=markers[1], s=100)\"\"\"\n",
    "    a=0\n",
    "ax[1].tick_params(axis=\"x\", labelrotation=90)\n",
    "ax[0].legend(loc=\"lower left\")\n",
    "\"\"\"\n",
    "axins = ax[0].inset_axes(\n",
    "    [0.5, 0.5, 0.47, 0.47],\n",
    "    xlim=(.5, 2.5), ylim=(.05, .065), xticklabels=[], yticklabels=[])\n",
    "axins.scatter(kWST[0][1:11], WST_mean[0][1:11], c=colors[2][0], marker=markers[0], s=100)\n",
    "axins.scatter(kWST[1][1:11], WST_mean[1][1:11], c=colors[2][1], marker=markers[1], s=100)\n",
    "ax[0].indicate_inset_zoom(axins, edgecolor=\"black\")\n",
    "\n",
    "axins = ax[1].inset_axes(\n",
    "    [.03, 0.67, 0.3, 0.3],\n",
    "    xlim=(15, 17), ylim=(.01, .011), xticklabels=[], yticklabels=[])\n",
    "axins.scatter(kWST[0][11:31], WST_mean[0][11:31], c=colors[2][0], marker=markers[0], s=100)\n",
    "axins.scatter(kWST[1][11:31], WST_mean[1][11:31], c=colors[2][1], marker=markers[1], s=100)\n",
    "ax[1].indicate_inset_zoom(axins, edgecolor=\"black\")\"\"\"\n",
    "\n",
    "my.plotSave(\"wst_axFracs\", dirName_plot, \"title\", True)\n",
    "\n",
    "\n",
    "\n"
   ]
  },
  {
   "cell_type": "code",
   "execution_count": 34,
   "id": "98a7041a",
   "metadata": {},
   "outputs": [
    {
     "name": "stdout",
     "output_type": "stream",
     "text": [
      "Save to: ../figs/foresting/40_512_20250809_0052_J9/devs.pdf\n"
     ]
    }
   ],
   "source": [
    "# Plot deviations\n",
    "%autoreload 2\n",
    "title = r\"$\\delta x = $\" + f\"{delta}\"\n",
    "my.plotDeviations(kPk[0], np.mean(Pk[1], axis=-1)/np.mean(Pk[0], axis=-1), kWST[0], np.mean(WST[1], axis=-1)/np.mean(WST[0], axis=-1), filename=\"devs\", title=title, dirName_plot=dirName_plot, savefig=True)\n",
    "#my.plotDeviations(kPk[0], np.mean(Pk_W[0], axis=-1)/np.mean(Pk[0], axis=-1), kWST[0], np.mean(WST[1], axis=-1)/np.mean(WST[0], axis=-1), filename=\"devs windowed\", title=title, dirName_plot=dirName_plot, savefig=True)\n"
   ]
  },
  {
   "cell_type": "code",
   "execution_count": null,
   "id": "fb3d99ce",
   "metadata": {},
   "outputs": [
    {
     "data": {
      "text/plain": [
       "'print(\"PS\")\\ncov_Pk = np.cov(np.log(Pk[0]).T, rowvar=False)\\nCorrPk = np.zeros(cov_Pk.shape)\\nfor i in range(cov_Pk.shape[0]):\\n    for j in range(cov_Pk.shape[1]):\\n        CorrPk[i,j] = cov_Pk[i,j]/np.sqrt(cov_Pk[i,i]*cov_Pk[j,j])\\nfor i in range(CorrPk.shape[0]):\\n    mean_x = np.mean(CorrPk[i,:])\\n    mean_y = np.mean(CorrPk[:,i])\\n    if mean_x<=0.1: print(\"mean_x <=0.1, i:\", i)\\n    if mean_y<=0.1: print(\"mean_y <=0.1, i:\", i)\\nprint(CorrPk.shape)\\nprint(kWST[0])'"
      ]
     },
     "execution_count": 91,
     "metadata": {},
     "output_type": "execute_result"
    }
   ],
   "source": [
    "# Measure covariance and filter out aliasing\n",
    "\"\"\"print(\"PS\")\n",
    "cov_Pk = np.cov(np.log(Pk[0]).T, rowvar=False)\n",
    "CorrPk = np.zeros(cov_Pk.shape)\n",
    "for i in range(cov_Pk.shape[0]):\n",
    "    for j in range(cov_Pk.shape[1]):\n",
    "        CorrPk[i,j] = cov_Pk[i,j]/np.sqrt(cov_Pk[i,i]*cov_Pk[j,j])\n",
    "for i in range(CorrPk.shape[0]):\n",
    "    mean_x = np.mean(CorrPk[i,:])\n",
    "    mean_y = np.mean(CorrPk[:,i])\n",
    "    if mean_x<=0.1: print(\"mean_x <=0.1, i:\", i)\n",
    "    if mean_y<=0.1: print(\"mean_y <=0.1, i:\", i)\n",
    "print(CorrPk.shape)\n",
    "print(kWST[0])\"\"\""
   ]
  },
  {
   "cell_type": "code",
   "execution_count": null,
   "id": "78aab791",
   "metadata": {},
   "outputs": [
    {
     "data": {
      "text/plain": [
       "'kPk[0] = kPk[0][:177]\\nkPk[1] = kPk[1][:177]\\nPk[0] = Pk[0][:177]\\nPk[1] = Pk[1][:177]\\n\\nkWST[0] = np.concatenate([kWST[0][5:11], kWST[0][-15:]])\\nkWST[1] = np.concatenate([kWST[1][5:11], kWST[1][-15:]])\\nWST[0] = np.concatenate([WST[0][5:11], WST[0][-15:]])\\nWST[1] = np.concatenate([WST[1][5:11], WST[1][-15:]])\\n'"
      ]
     },
     "execution_count": 92,
     "metadata": {},
     "output_type": "execute_result"
    }
   ],
   "source": [
    "# Take out scales with mean correlation>0.1\n",
    "\"\"\"kPk[0] = kPk[0][:177]\n",
    "kPk[1] = kPk[1][:177]\n",
    "Pk[0] = Pk[0][:177]\n",
    "Pk[1] = Pk[1][:177]\n",
    "\n",
    "kWST[0] = np.concatenate([kWST[0][5:11], kWST[0][-15:]])\n",
    "kWST[1] = np.concatenate([kWST[1][5:11], kWST[1][-15:]])\n",
    "WST[0] = np.concatenate([WST[0][5:11], WST[0][-15:]])\n",
    "WST[1] = np.concatenate([WST[1][5:11], WST[1][-15:]])\n",
    "\"\"\""
   ]
  },
  {
   "cell_type": "code",
   "execution_count": 49,
   "id": "b97b4673",
   "metadata": {},
   "outputs": [
    {
     "name": "stdout",
     "output_type": "stream",
     "text": [
      "18 18 256 256\n",
      "Save to: ../figs/foresting/60_512_20250805_1710_J9/covCorr.pdf\n"
     ]
    }
   ],
   "source": [
    "# Plot covariance and correlation matrices for both PS and WST\n",
    "%autoreload 2\n",
    "print(len(WST[0]), len(kWST[0]), len(kPk[0]), len(Pk[0]))\n",
    "my.plotCovCorr(kPk[0], Pk, kWST[0], WST, J, dirName_plot, start_time)\n"
   ]
  },
  {
   "cell_type": "code",
   "execution_count": null,
   "id": "c0507c89",
   "metadata": {},
   "outputs": [
    {
     "data": {
      "text/plain": [
       "'\\ncov_Pk = np.cov(np.log(Pk[0]).T, rowvar=False)\\ncov_WST = np.cov(WST[0].T, rowvar=False)\\n\\nCorrPk = np.zeros(cov_Pk.shape)\\nfor i in range(cov_Pk.shape[0]):\\n    for j in range(cov_Pk.shape[1]):\\n        CorrPk[i,j] = cov_Pk[i,j]/np.sqrt(cov_Pk[i,i]*cov_Pk[j,j])\\n\\nCorrWST = np.zeros(cov_WST.shape)\\nfor i in range(cov_WST.shape[0]):\\n    for j in range(cov_WST.shape[1]):\\n        CorrWST[i,j] = cov_WST[i,j]/np.sqrt(cov_WST[i,i]*cov_WST[j,j])\\n\\nfig, axs = plt.subplots(2, 2, figsize=(13, 13))\\naxs = axs.ravel()\\n\\nim1 = axs[0].imshow(cov_Pk, cmap=\\'seismic\\')\\naxs[0].set_title(r\\'Cov $P(k)$\\')\\nticks = my.get_ticks(len(kPk[0]), 64)\\naxs[0].set_xticks(ticks)\\naxs[0].set_xticklabels([f\"{kPk[0][i]:.2f}\" for i in ticks], rotation=90)\\naxs[0].set_yticks(ticks)\\naxs[0].set_yticklabels([f\"{kPk[0][i]:.2f}\" for i in ticks])\\nfig.colorbar(im1, ax=axs[0])\\n\\nim2 = axs[1].imshow(cov_WST, cmap=\\'seismic\\')\\naxs[1].set_title(r\\'Cov $S_1(j_1)$\\')\\nticks = my.get_ticks(cov_WST.shape[0], 3)\\naxs[1].set_xticks(ticks)\\naxs[1].set_xticklabels([str(kWST[0][i]) for i in ticks], rotation=90)\\naxs[1].set_yticks(ticks)\\naxs[1].set_yticklabels([str(kWST[0][i]) for i in ticks])\\nfig.colorbar(im2, ax=axs[1])\\n\\nim3 = axs[2].imshow(CorrPk, cmap=\\'seismic\\', vmin=-1, vmax=1)\\naxs[2].set_title(r\\'Corr $P(k)$\\')\\nticks = my.get_ticks(len(kPk[0]), 64)\\naxs[2].set_xticks(ticks)\\naxs[2].set_xticklabels([f\"{kPk[0][i]:.2f}\" for i in ticks], rotation=90)\\naxs[2].set_yticks(ticks)\\naxs[2].set_yticklabels([f\"{kPk[0][i]:.2f}\" for i in ticks])\\nfig.colorbar(im3, ax=axs[2])\\n\\nim4 = axs[3].imshow(CorrWST, cmap=\\'seismic\\', vmin=-1, vmax=1)\\naxs[3].set_title(r\\'Corr $S_1(j_1)$\\')\\nticks = my.get_ticks(cov_WST.shape[0], 3)\\naxs[3].set_xticks(ticks)\\naxs[3].set_xticklabels([str(kWST[0][i]) for i in ticks], rotation=90)\\naxs[3].set_yticks(ticks)\\naxs[3].set_yticklabels([str(kWST[0][i]) for i in ticks])\\nfig.colorbar(im4, ax=axs[3])\\n\\n#plt.tight_layout()  # Adjust layout to prevent overlap\\nmy.plotSave(\"covCorr\", dirName_plot, \"title\", savefig=True)'"
      ]
     },
     "execution_count": 94,
     "metadata": {},
     "output_type": "execute_result"
    }
   ],
   "source": [
    "# CovCorr with filtered out small scales\n",
    "\"\"\"\n",
    "cov_Pk = np.cov(np.log(Pk[0]).T, rowvar=False)\n",
    "cov_WST = np.cov(WST[0].T, rowvar=False)\n",
    "\n",
    "CorrPk = np.zeros(cov_Pk.shape)\n",
    "for i in range(cov_Pk.shape[0]):\n",
    "    for j in range(cov_Pk.shape[1]):\n",
    "        CorrPk[i,j] = cov_Pk[i,j]/np.sqrt(cov_Pk[i,i]*cov_Pk[j,j])\n",
    "\n",
    "CorrWST = np.zeros(cov_WST.shape)\n",
    "for i in range(cov_WST.shape[0]):\n",
    "    for j in range(cov_WST.shape[1]):\n",
    "        CorrWST[i,j] = cov_WST[i,j]/np.sqrt(cov_WST[i,i]*cov_WST[j,j])\n",
    "\n",
    "fig, axs = plt.subplots(2, 2, figsize=(13, 13))\n",
    "axs = axs.ravel()\n",
    "\n",
    "im1 = axs[0].imshow(cov_Pk, cmap='seismic')\n",
    "axs[0].set_title(r'Cov $P(k)$')\n",
    "ticks = my.get_ticks(len(kPk[0]), 64)\n",
    "axs[0].set_xticks(ticks)\n",
    "axs[0].set_xticklabels([f\"{kPk[0][i]:.2f}\" for i in ticks], rotation=90)\n",
    "axs[0].set_yticks(ticks)\n",
    "axs[0].set_yticklabels([f\"{kPk[0][i]:.2f}\" for i in ticks])\n",
    "fig.colorbar(im1, ax=axs[0])\n",
    "\n",
    "im2 = axs[1].imshow(cov_WST, cmap='seismic')\n",
    "axs[1].set_title(r'Cov $S_1(j_1)$')\n",
    "ticks = my.get_ticks(cov_WST.shape[0], 3)\n",
    "axs[1].set_xticks(ticks)\n",
    "axs[1].set_xticklabels([str(kWST[0][i]) for i in ticks], rotation=90)\n",
    "axs[1].set_yticks(ticks)\n",
    "axs[1].set_yticklabels([str(kWST[0][i]) for i in ticks])\n",
    "fig.colorbar(im2, ax=axs[1])\n",
    "\n",
    "im3 = axs[2].imshow(CorrPk, cmap='seismic', vmin=-1, vmax=1)\n",
    "axs[2].set_title(r'Corr $P(k)$')\n",
    "ticks = my.get_ticks(len(kPk[0]), 64)\n",
    "axs[2].set_xticks(ticks)\n",
    "axs[2].set_xticklabels([f\"{kPk[0][i]:.2f}\" for i in ticks], rotation=90)\n",
    "axs[2].set_yticks(ticks)\n",
    "axs[2].set_yticklabels([f\"{kPk[0][i]:.2f}\" for i in ticks])\n",
    "fig.colorbar(im3, ax=axs[2])\n",
    "\n",
    "im4 = axs[3].imshow(CorrWST, cmap='seismic', vmin=-1, vmax=1)\n",
    "axs[3].set_title(r'Corr $S_1(j_1)$')\n",
    "ticks = my.get_ticks(cov_WST.shape[0], 3)\n",
    "axs[3].set_xticks(ticks)\n",
    "axs[3].set_xticklabels([str(kWST[0][i]) for i in ticks], rotation=90)\n",
    "axs[3].set_yticks(ticks)\n",
    "axs[3].set_yticklabels([str(kWST[0][i]) for i in ticks])\n",
    "fig.colorbar(im4, ax=axs[3])\n",
    "\n",
    "#plt.tight_layout()  # Adjust layout to prevent overlap\n",
    "my.plotSave(\"covCorr\", dirName_plot, \"title\", savefig=True)\"\"\"\n",
    "\n"
   ]
  },
  {
   "cell_type": "code",
   "execution_count": 47,
   "id": "d73d16f4",
   "metadata": {},
   "outputs": [
    {
     "name": "stdout",
     "output_type": "stream",
     "text": [
      "Pk:  (256, 4800) WST:  (18, 4800)\n",
      "Pk Cov:  (256, 256) WST Cov:  (18, 18)\n",
      "run Pk\n",
      "covinv:  (256, 256) term:  (256,) fisher_ab:  ()\n",
      "()\n",
      "I'm a 1D fish  3481.3213501630557\n",
      "dS_dTheta:  (256,)\n",
      "\n",
      " \n",
      "run WST\n",
      "covinv:  (18, 18) term:  (18,) fisher_ab:  ()\n",
      "()\n",
      "I'm a 1D fish  3275.5192547531033\n",
      "dS_dTheta:  (18,)\n",
      "() ()\n",
      "sigma from PS:  0.016948370262014196 sigma from WST:  0.017472696030798276\n",
      "PS =  0.9699917077559251 * WST\n"
     ]
    }
   ],
   "source": [
    "# Compute constraints\n",
    "cov_Pk = np.cov(np.log(Pk[0]).T, rowvar=False)\n",
    "cov_WST = np.cov(WST[0].T, rowvar=False)\n",
    "\n",
    "print(\"Pk: \", Pk[0].shape, \"WST: \", WST[1].shape)\n",
    "print(\"Pk Cov: \", cov_Pk.shape, \"WST Cov: \", cov_WST.shape)\n",
    "\n",
    "print(\"run Pk\")\n",
    "PS_sigma_x = my.getConstrainingPower(np.mean(Pk[0], axis=-1), np.mean(Pk[1], axis=-1), delta, cov_matrix=cov_Pk)\n",
    "print(\"\\n \\nrun WST\")\n",
    "WST_sigma_x = my.getConstrainingPower(np.mean(WST[0], axis=-1), np.mean(WST[1], axis=-1), delta, cov_matrix=cov_WST)\n",
    "\n",
    "print(PS_sigma_x.shape, WST_sigma_x.shape)\n",
    "print(\"sigma from PS: \", PS_sigma_x, \"sigma from WST: \", WST_sigma_x)\n",
    "print(\"PS = \", PS_sigma_x/WST_sigma_x, \"* WST\")"
   ]
  },
  {
   "cell_type": "code",
   "execution_count": null,
   "id": "af558595",
   "metadata": {},
   "outputs": [
    {
     "data": {
      "text/plain": [
       "'cov_Pk = np.cov(np.log(Pk_W[0]).T, rowvar=False)\\ncov_WST = np.cov(WST[0].T, rowvar=False)\\n\\nprint(\"Pk: \", Pk_W[0].shape, \"WST: \", WST[1].shape)\\nprint(\"Pk Cov: \", cov_Pk.shape, \"WST Cov: \", cov_WST.shape)\\n\\nprint(\"run Pk\")\\nPS_sigma_x = my.getConstrainingPower(np.mean(Pk_W[0], axis=-1), np.mean(Pk_W[1], axis=-1), delta, cov_matrix=cov_Pk)\\nprint(\"\\n \\nrun WST\")\\nWST_sigma_x = my.getConstrainingPower(np.mean(WST[0], axis=-1), np.mean(WST[1], axis=-1), delta, cov_matrix=cov_WST)\\n\\nprint(PS_sigma_x.shape, WST_sigma_x.shape)\\nprint(\"sigma from PS: \", PS_sigma_x, \"sigma from WST: \", WST_sigma_x)\\nprint(\"PS = \", PS_sigma_x/WST_sigma_x, \"* WST\")'"
      ]
     },
     "execution_count": 96,
     "metadata": {},
     "output_type": "execute_result"
    }
   ],
   "source": [
    "# Compute constraints with window function\n",
    "\"\"\"cov_Pk = np.cov(np.log(Pk_W[0]).T, rowvar=False)\n",
    "cov_WST = np.cov(WST[0].T, rowvar=False)\n",
    "\n",
    "print(\"Pk: \", Pk_W[0].shape, \"WST: \", WST[1].shape)\n",
    "print(\"Pk Cov: \", cov_Pk.shape, \"WST Cov: \", cov_WST.shape)\n",
    "\n",
    "print(\"run Pk\")\n",
    "PS_sigma_x = my.getConstrainingPower(np.mean(Pk_W[0], axis=-1), np.mean(Pk_W[1], axis=-1), delta, cov_matrix=cov_Pk)\n",
    "print(\"\\n \\nrun WST\")\n",
    "WST_sigma_x = my.getConstrainingPower(np.mean(WST[0], axis=-1), np.mean(WST[1], axis=-1), delta, cov_matrix=cov_WST)\n",
    "\n",
    "print(PS_sigma_x.shape, WST_sigma_x.shape)\n",
    "print(\"sigma from PS: \", PS_sigma_x, \"sigma from WST: \", WST_sigma_x)\n",
    "print(\"PS = \", PS_sigma_x/WST_sigma_x, \"* WST\")\"\"\""
   ]
  },
  {
   "cell_type": "code",
   "execution_count": null,
   "id": "d1a6de11",
   "metadata": {},
   "outputs": [
    {
     "data": {
      "text/plain": [
       "'fishMatPS = my.getFish(Pk, delta, 1)\\nmy.plotFish(fishMatPS, dirName_plot, title=r\"$\\\\delta m = $\" + delta + r\"$\\\\delta x = $\" + delta, filename=\"fishMatPS\")\\n\\nfishMatWST = my.getFish(WST, delta, 1)\\nmy.plotFish(fishMatWST, dirName_plot, title=r\"$\\\\delta m = $\" + delta + r\"$\\\\delta x = $\" + delta, filename=\"fishMatWST\")'"
      ]
     },
     "execution_count": 97,
     "metadata": {},
     "output_type": "execute_result"
    }
   ],
   "source": [
    "# Fisher matrix\n",
    "\"\"\"fishMatPS = my.getFish(Pk, delta, 1)\n",
    "my.plotFish(fishMatPS, dirName_plot, title=r\"$\\delta m = $\" + delta + r\"$\\delta x = $\" + delta, filename=\"fishMatPS\")\n",
    "\n",
    "fishMatWST = my.getFish(WST, delta, 1)\n",
    "my.plotFish(fishMatWST, dirName_plot, title=r\"$\\delta m = $\" + delta + r\"$\\delta x = $\" + delta, filename=\"fishMatWST\")\"\"\"\n"
   ]
  }
 ],
 "metadata": {
  "kernelspec": {
   "display_name": "fake_spectra_env",
   "language": "python",
   "name": "python3"
  },
  "language_info": {
   "codemirror_mode": {
    "name": "ipython",
    "version": 3
   },
   "file_extension": ".py",
   "mimetype": "text/x-python",
   "name": "python",
   "nbconvert_exporter": "python",
   "pygments_lexer": "ipython3",
   "version": "3.8.20"
  }
 },
 "nbformat": 4,
 "nbformat_minor": 5
}
